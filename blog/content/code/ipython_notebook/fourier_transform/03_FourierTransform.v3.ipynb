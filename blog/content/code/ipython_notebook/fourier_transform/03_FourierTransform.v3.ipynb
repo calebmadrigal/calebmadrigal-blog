{
 "metadata": {
  "kernelspec": {
   "display_name": "Python 3",
   "language": "python",
   "name": "python3"
  },
  "language_info": {
   "codemirror_mode": {
    "name": "ipython",
    "version": 3
   },
   "file_extension": ".py",
   "mimetype": "text/x-python",
   "name": "python",
   "nbconvert_exporter": "python",
   "pygments_lexer": "ipython3",
   "version": "3.5.1"
  },
  "name": ""
 },
 "nbformat": 3,
 "nbformat_minor": 0,
 "worksheets": [
  {
   "cells": [
    {
     "cell_type": "code",
     "collapsed": false,
     "input": [
      "# Graphing helper function\n",
      "def setup_graph(title='', x_label='', y_label='', fig_size=None):\n",
      "    fig = plt.figure()\n",
      "    if fig_size != None:\n",
      "        fig.set_size_inches(fig_size[0], fig_size[1])\n",
      "    ax = fig.add_subplot(111)\n",
      "    ax.set_title(title)\n",
      "    ax.set_xlabel(x_label)\n",
      "    ax.set_ylabel(y_label)\n",
      "    "
     ],
     "language": "python",
     "metadata": {},
     "outputs": [],
     "prompt_number": 19
    },
    {
     "cell_type": "markdown",
     "metadata": {},
     "source": [
      "---"
     ]
    },
    {
     "cell_type": "markdown",
     "metadata": {},
     "source": [
      "# Fourier Transform\n",
      "\n",
      "![Time to Frequency Domain](http://calebmadrigal.com/images/fourier-transform/time_freq_domain.png)\n",
      "\n",
      "## The Fourier Transform is like a prism (not the NSA one)\n",
      "\n",
      "![Prism](http://calebmadrigal.com/images/fourier-transform/prism.png)\n",
      "\n",
      "<br />\n",
      "---\n",
      "<br />\n",
      "\n",
      "## Fourier Transform Definition\n",
      "\n",
      "$$G(f) = \\int_{-\\infty}^\\infty g(t) e^{-i 2 \\pi f t} dt$$\n",
      "\n",
      "<br />\n",
      "For our purposes, we will just be using the discrete version...\n",
      "<br /><br />\n",
      "\n",
      "## Discrete Fourier Transform (DFT) Definition\n",
      "$$G(\\frac{n}{N}) = \\sum_{k=0}^{N-1} g(k) e^{-i 2 \\pi k \\frac{n}{N} }$$\n",
      "\n",
      "**Meaning**:\n",
      "\n",
      "* $N$ is the total number of samples\n",
      "* $g(k)$ is the kth sample for the time-domain function (i.e. the DFT input)\n",
      "* $G(\\frac{n}{N})$ is the output of the DFT for the frequency that is $\\frac{n}{N}$ cycles per sample; so to get the frequency, you have to multiply $n/N$ by the sample rate."
     ]
    },
    {
     "cell_type": "heading",
     "level": 1,
     "metadata": {},
     "source": [
      "How to represent waves"
     ]
    },
    {
     "cell_type": "code",
     "collapsed": false,
     "input": [
      "%matplotlib inline\n",
      "import matplotlib.pyplot as plt\n",
      "import numpy as np\n",
      "import scipy\n",
      "\n",
      "freq = 1 #hz - cycles per second\n",
      "amplitude = 3\n",
      "time_to_plot = 2 # second\n",
      "sample_rate = 100 # samples per second\n",
      "num_samples = sample_rate * time_to_plot\n",
      "\n",
      "t = np.linspace(0, time_to_plot, num_samples)\n",
      "signal = [amplitude * np.sin(freq * i * 2*np.pi) for i in t] # Explain the 2*pi"
     ],
     "language": "python",
     "metadata": {},
     "outputs": [],
     "prompt_number": 20
    },
    {
     "cell_type": "markdown",
     "metadata": {},
     "source": [
      "### Why the 2*pi?\n",
      "\n",
      "* If we want a wave which completes 1 cycle per second, so sine must come back to the same position on a circle as the starting point\n",
      "* So one full rotation about a circle - $2 \\pi$ (in radians)\n",
      "\n",
      "![sine_curve](http://calebmadrigal.com/images/fourier-transform/Sine_curve_drawing_animation.gif)"
     ]
    },
    {
     "cell_type": "heading",
     "level": 1,
     "metadata": {},
     "source": [
      "Plot the wave"
     ]
    },
    {
     "cell_type": "code",
     "collapsed": false,
     "input": [
      "setup_graph(x_label='time (in seconds)', y_label='amplitude', title='time domain')\n",
      "plt.plot(t, signal)"
     ],
     "language": "python",
     "metadata": {},
     "outputs": [
      {
       "metadata": {},
       "output_type": "pyout",
       "prompt_number": 21,
       "text": [
        "[<matplotlib.lines.Line2D at 0x10f277748>]"
       ]
      },
      {
       "metadata": {},
       "output_type": "display_data",
       "png": "[encoded data removed]",
       "text": [
        "<matplotlib.figure.Figure at 0x10f081a58>"
       ]
      }
     ],
     "prompt_number": 21
    },
    {
     "cell_type": "markdown",
     "metadata": {},
     "source": [
      "# Convert to the Frequency Domain\n",
      "\n"
     ]
    },
    {
     "cell_type": "code",
     "collapsed": false,
     "input": [
      "fft_output = np.fft.rfft(signal)\n",
      "magnitude_only = [np.sqrt(i.real**2 + i.imag**2)/len(fft_output) for i in fft_output]\n",
      "frequencies = [(i*1.0/num_samples)*sample_rate for i in range(num_samples//2+1)]"
     ],
     "language": "python",
     "metadata": {},
     "outputs": [],
     "prompt_number": 22
    },
    {
     "cell_type": "code",
     "collapsed": false,
     "input": [
      "setup_graph(x_label='frequency (in Hz)', y_label='amplitude', title='frequency domain')\n",
      "plt.plot(frequencies, magnitude_only, 'r')"
     ],
     "language": "python",
     "metadata": {},
     "outputs": [
      {
       "metadata": {},
       "output_type": "pyout",
       "prompt_number": 23,
       "text": [
        "[<matplotlib.lines.Line2D at 0x10eec6160>]"
       ]
      },
      {
       "metadata": {},
       "output_type": "display_data",
       "png": "[encoded data removed]",
       "text": [
        "<matplotlib.figure.Figure at 0x10f1726a0>"
       ]
      }
     ],
     "prompt_number": 23
    },
    {
     "cell_type": "markdown",
     "metadata": {},
     "source": [
      "## Question: So what does the Fourier Transform give us?\n",
      "\n",
      "* The amplitudes of simple sine waves\n",
      "* Their starting position - phase (we won't get into this part much)\n",
      "\n",
      "## Question: what sine wave frequencies are used?\n",
      "\n",
      "* Answer: This is determined by how many samples are provided to the Fourier Transform\n",
      "* Frequencies range from 0 to (number of samples) / 2\n",
      "* **Example: If your sample rate is 100Hz, and you give the FFT 100 samples, the FFT will return the amplitude of the components with frequencies 0 to 50Hz.**"
     ]
    },
    {
     "cell_type": "code",
     "collapsed": false,
     "input": [],
     "language": "python",
     "metadata": {},
     "outputs": [],
     "prompt_number": null
    }
   ],
   "metadata": {}
  }
 ]
}
