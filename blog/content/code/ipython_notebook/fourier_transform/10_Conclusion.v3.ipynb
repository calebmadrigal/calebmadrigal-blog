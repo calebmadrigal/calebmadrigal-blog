{
 "metadata": {
  "kernelspec": {
   "display_name": "Python 3",
   "language": "python",
   "name": "python3"
  },
  "language_info": {
   "codemirror_mode": {
    "name": "ipython",
    "version": 3
   },
   "file_extension": ".py",
   "mimetype": "text/x-python",
   "name": "python",
   "nbconvert_exporter": "python",
   "pygments_lexer": "ipython3",
   "version": "3.5.1"
  },
  "name": ""
 },
 "nbformat": 3,
 "nbformat_minor": 0,
 "worksheets": [
  {
   "cells": [
    {
     "cell_type": "markdown",
     "metadata": {},
     "source": [
      "# Conclusion\n",
      "\n",
      "### We looked at:\n",
      "    \n",
      "* The Nature of Waves\n",
      "* The Fourier Transform\n",
      "* Fast Fourier Transform (FFT) in Python\n",
      "* Audio analysis\n",
      "\n",
      "### Caveat\n",
      "\n",
      "* Audio analysis is difficult (mainly due to harmonics)\n",
      "\n",
      "\n",
      "# My contact info\n",
      "* http://calebmadrigal.com\n",
      "* http://github.com/calebmadrigal\n",
      "\n",
      "# Questions?"
     ]
    }
   ],
   "metadata": {}
  }
 ]
}
