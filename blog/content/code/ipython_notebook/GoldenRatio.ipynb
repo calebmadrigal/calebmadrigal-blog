{
 "metadata": {
  "name": ""
 },
 "nbformat": 3,
 "nbformat_minor": 0,
 "worksheets": [
  {
   "cells": [
    {
     "cell_type": "markdown",
     "metadata": {},
     "source": [
      "<img src=\"http://upload.wikimedia.org/wikipedia/commons/thumb/4/44/Golden_ratio_line.svg/270px-Golden_ratio_line.svg.png\" />"
     ]
    },
    {
     "cell_type": "markdown",
     "metadata": {},
     "source": [
      "From this relationship we see in this image, we can derive this equation: $$\\frac{a}{b} = \\frac{a+b}{a}$$\n",
      "\n",
      "And if we then let b=1 (so we can find the ratio of a to 1), we get: $$a = \\frac{a+1}{a}$$\n",
      "\n",
      "Then, with this formula, we can define a function: $$f(a) = \\frac{a+1}{a}$$\n",
      "\n",
      "If we then find the **fixed-point in this function** (so that f(x) = x), then we will have found a solution to $$a = \\frac{a+1}{a}$$\n",
      "\n",
      "A simple way to think about the fixed-point of this function is this: it is the place where $y=x$ (or $f(x) = x$  ) intersects with our function.  And that intersction point should be the golden ratio.\n"
     ]
    },
    {
     "cell_type": "code",
     "collapsed": false,
     "input": [
      "# Plot y=(x+1)/x and y=x\n",
      "x=numpy.linspace(0.5,3,1000)\n",
      "y=map(lambda a: (a+1.0)/a, x)\n",
      "y2=map(lambda a: a, x)\n",
      "plot(x, y)\n",
      "plot(x, y2, 'r')\n",
      "\n",
      "# Make graph square\n",
      "fig = matplotlib.pyplot.gcf()\n",
      "fig.set_size_inches(5,5)"
     ],
     "language": "python",
     "metadata": {},
     "outputs": [
      {
       "output_type": "display_data",
       "png": "[encoded data removed]"
      }
     ],
     "prompt_number": 26
    },
    {
     "cell_type": "markdown",
     "metadata": {},
     "source": [
      "Another way to find the golden ratio is to use [Fixed-point iteration](http://en.wikipedia.org/wiki/Fixed-point_iteration) - again, since we know that finding the fixed point of the function:\n",
      "\n",
      "$$f(a) = \\frac{a+1}{a}$$\n",
      "\n",
      "is the golden ratio."
     ]
    },
    {
     "cell_type": "code",
     "collapsed": false,
     "input": [
      "golden_ratio = reduce(lambda acc,_: (acc+1.0)/acc, xrange(100), 1)\n",
      "print golden_ratio"
     ],
     "language": "python",
     "metadata": {},
     "outputs": [
      {
       "output_type": "stream",
       "stream": "stdout",
       "text": [
        "1.61803398875\n"
       ]
      }
     ],
     "prompt_number": 1
    }
   ],
   "metadata": {}
  }
 ]
}