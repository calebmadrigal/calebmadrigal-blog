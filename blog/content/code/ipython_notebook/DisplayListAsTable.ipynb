{
 "metadata": {
  "name": ""
 },
 "nbformat": 3,
 "nbformat_minor": 0,
 "worksheets": [
  {
   "cells": [
    {
     "cell_type": "code",
     "collapsed": false,
     "input": [
      "class ListTable(list):\n",
      "    \"\"\" Overridden list class which takes a 2-dimensional list of the form [[1,2,3],[4,5,6]]\n",
      "        and renders an HTML Table in IPython Notebook. \"\"\"\n",
      "    \n",
      "    def _repr_html_(self):\n",
      "        html = [\"<table>\"]\n",
      "        for row in self:\n",
      "            html.append(\"<tr>\")\n",
      "            \n",
      "            for col in row:\n",
      "                html.append(\"<td>{0}</td>\".format(col))\n",
      "            \n",
      "            html.append(\"</tr>\")\n",
      "        html.append(\"</table>\")\n",
      "        return ''.join(html)"
     ],
     "language": "python",
     "metadata": {},
     "outputs": [],
     "prompt_number": 19
    },
    {
     "cell_type": "code",
     "collapsed": false,
     "input": [
      "import random\n",
      "table = ListTable()\n",
      "table.append(['x', 'y', 'x-y', '(x-y)^2'])\n",
      "for i in xrange(7):\n",
      "    x = random.uniform(0, 10)\n",
      "    y = random.uniform(0, 10)\n",
      "    table.append([x, y, x-y, (x-y)**2])\n",
      "table"
     ],
     "language": "python",
     "metadata": {},
     "outputs": [
      {
       "html": [
        "<table><tr><td>x</td><td>y</td><td>x-y</td><td>(x-y)^2</td></tr><tr><td>7.13100115096</td><td>6.41454890689</td><td>0.716452244068</td><td>0.51330381803</td></tr><tr><td>2.20510983649</td><td>9.08155522913</td><td>-6.87644539264</td><td>47.285501238</td></tr><tr><td>6.02880950267</td><td>0.452385399979</td><td>5.5764241027</td><td>31.0965057731</td></tr><tr><td>2.40055115069</td><td>4.26670665801</td><td>-1.86615550732</td><td>3.48253637751</td></tr><tr><td>8.04537815742</td><td>9.77588474573</td><td>-1.73050658831</td><td>2.99465305217</td></tr><tr><td>8.01528822253</td><td>1.95724789666</td><td>6.05804032587</td><td>36.6998525898</td></tr><tr><td>0.905518153536</td><td>1.91330142109</td><td>-1.00778326755</td><td>1.01562711436</td></tr></table>"
       ],
       "metadata": {},
       "output_type": "pyout",
       "prompt_number": 23,
       "text": [
        "[['x', 'y', 'x-y', '(x-y)^2'],\n",
        " [7.131001150955589, 6.41454890688792, 0.7164522440676686, 0.5133038180295982],\n",
        " [2.2051098364900823, 9.081555229132011, -6.876445392641928, 47.2855012379864],\n",
        " [6.028809502674869,\n",
        "  0.45238539997929483,\n",
        "  5.576424102695574,\n",
        "  31.09650577312414],\n",
        " [2.40055115069139, 4.266706658012824, -1.8661555073214338, 3.482536377506118],\n",
        " [8.045378157420961,\n",
        "  9.775884745726188,\n",
        "  -1.7305065883052269,\n",
        "  2.994653052167796],\n",
        " [8.015288222527685, 1.957247896661134, 6.058040325866552, 36.69985258982531],\n",
        " [0.905518153535555,\n",
        "  1.9133014210881516,\n",
        "  -1.0077832675525966,\n",
        "  1.0156271143589886]]"
       ]
      }
     ],
     "prompt_number": 23
    }
   ],
   "metadata": {}
  }
 ]
}