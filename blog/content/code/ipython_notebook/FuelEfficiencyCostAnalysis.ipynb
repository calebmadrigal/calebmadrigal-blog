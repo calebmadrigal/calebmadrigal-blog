{
 "metadata": {
  "name": "",
  "signature": "sha256:2ff7466bbb53e2d3040c63182e14146f7e80b569762c1bad639af5380f976132"
 },
 "nbformat": 3,
 "nbformat_minor": 0,
 "worksheets": [
  {
   "cells": [
    {
     "cell_type": "markdown",
     "metadata": {},
     "source": [
      "# Goal\n",
      "\n",
      "* To find how much different fuel efficiencies cost in terms of dollars per year.\n",
      "* I want to estimate this value for the next 10 or so years.\n",
      "\n",
      "# Assumptions\n",
      "\n",
      "* I'm estimating the average price per gallon of gas (over the next 10 years) to be \\$4.50. It is around $3.60 now, I adjusted for inflation, and counter-adjusted for the time-value of money.\n",
      "* I'm estimating that we will drive about 14,000 miles per year (based on the last 3 years)."
     ]
    },
    {
     "cell_type": "markdown",
     "metadata": {},
     "source": [
      "# Data"
     ]
    },
    {
     "cell_type": "code",
     "collapsed": false,
     "input": [
      "price_per_gallon = 4.50 # dollars per gallon\n",
      "miles_per_year = 14000.0 # miles per year"
     ],
     "language": "python",
     "metadata": {},
     "outputs": [],
     "prompt_number": 1
    },
    {
     "cell_type": "markdown",
     "metadata": {},
     "source": [
      "# Calculations"
     ]
    },
    {
     "cell_type": "code",
     "collapsed": false,
     "input": [
      "def price_per_year(mpg):\n",
      "    return (miles_per_year / mpg) * price_per_gallon\n"
     ],
     "language": "python",
     "metadata": {},
     "outputs": [],
     "prompt_number": 2
    },
    {
     "cell_type": "code",
     "collapsed": false,
     "input": [
      "# Compare fuel efficiencies between 15 mpg and 50 mpg\n",
      "mpg_list = range(15, 51)\n",
      "price_list = [price_per_year(mpg) for mpg in mpg_list]"
     ],
     "language": "python",
     "metadata": {},
     "outputs": [],
     "prompt_number": 3
    },
    {
     "cell_type": "code",
     "collapsed": false,
     "input": [
      "def setup_graph(title='', x_label='', y_label='', fig_size=None):\n",
      "    fig = plt.figure()\n",
      "    if fig_size != None:\n",
      "        fig.set_size_inches(fig_size[0], fig_size[1])\n",
      "    ax = fig.add_subplot(111)\n",
      "    ax.set_title(title)\n",
      "    ax.set_xlabel(x_label)\n",
      "    ax.set_ylabel(y_label)\n",
      "\n",
      "setup_graph(title='Cost per year for each mpg rating', x_label='mpg', y_label='price', fig_size=(14,8))\n",
      "_ = plot(mpg_list, price_list)"
     ],
     "language": "python",
     "metadata": {},
     "outputs": [
      {
       "metadata": {},
       "output_type": "display_data",
       "png": "[encoded data removed]",
       "text": [
        "<matplotlib.figure.Figure at 0x10a37b2d0>"
       ]
      }
     ],
     "prompt_number": 4
    },
    {
     "cell_type": "heading",
     "level": 1,
     "metadata": {},
     "source": [
      "Example mpg differences in price"
     ]
    },
    {
     "cell_type": "heading",
     "level": 3,
     "metadata": {},
     "source": [
      "1 mpg difference (29 mpg to 30 mpg)"
     ]
    },
    {
     "cell_type": "code",
     "collapsed": false,
     "input": [
      "price_per_year(29) - price_per_year(30)"
     ],
     "language": "python",
     "metadata": {},
     "outputs": [
      {
       "metadata": {},
       "output_type": "pyout",
       "prompt_number": 5,
       "text": [
        "72.41379310344837"
       ]
      }
     ],
     "prompt_number": 5
    },
    {
     "cell_type": "heading",
     "level": 3,
     "metadata": {},
     "source": [
      "5 mpg difference 20 mpg to 25 mpg)"
     ]
    },
    {
     "cell_type": "code",
     "collapsed": false,
     "input": [
      "price_per_year(20) - price_per_year(25)"
     ],
     "language": "python",
     "metadata": {},
     "outputs": [
      {
       "metadata": {},
       "output_type": "pyout",
       "prompt_number": 6,
       "text": [
        "630.0"
       ]
      }
     ],
     "prompt_number": 6
    },
    {
     "cell_type": "heading",
     "level": 3,
     "metadata": {},
     "source": [
      "5 mpg difference (25 mpg to 30 mpg)"
     ]
    },
    {
     "cell_type": "code",
     "collapsed": false,
     "input": [
      "price_per_year(25) - price_per_year(30)"
     ],
     "language": "python",
     "metadata": {},
     "outputs": [
      {
       "metadata": {},
       "output_type": "pyout",
       "prompt_number": 7,
       "text": [
        "420.0"
       ]
      }
     ],
     "prompt_number": 7
    },
    {
     "cell_type": "markdown",
     "metadata": {},
     "source": [
      "### 5 mpg difference (30 mpg to 35 mpg)\n",
      "\n",
      "##### Note the diminishing returns as fuel efficiency increases"
     ]
    },
    {
     "cell_type": "code",
     "collapsed": false,
     "input": [
      "price_per_year(30) - price_per_year(35)"
     ],
     "language": "python",
     "metadata": {},
     "outputs": [
      {
       "metadata": {},
       "output_type": "pyout",
       "prompt_number": 8,
       "text": [
        "300.0"
       ]
      }
     ],
     "prompt_number": 8
    },
    {
     "cell_type": "heading",
     "level": 3,
     "metadata": {},
     "source": [
      "5 mpg difference (35 mpg to 40 mpg)"
     ]
    },
    {
     "cell_type": "code",
     "collapsed": false,
     "input": [
      "price_per_year(35) - price_per_year(40)"
     ],
     "language": "python",
     "metadata": {},
     "outputs": [
      {
       "metadata": {},
       "output_type": "pyout",
       "prompt_number": 9,
       "text": [
        "225.0"
       ]
      }
     ],
     "prompt_number": 9
    },
    {
     "cell_type": "heading",
     "level": 3,
     "metadata": {},
     "source": [
      "10 mpg difference (20 mpg to 30 mpg)"
     ]
    },
    {
     "cell_type": "code",
     "collapsed": false,
     "input": [
      "price_per_year(20) - price_per_year(30)"
     ],
     "language": "python",
     "metadata": {},
     "outputs": [
      {
       "metadata": {},
       "output_type": "pyout",
       "prompt_number": 10,
       "text": [
        "1050.0"
       ]
      }
     ],
     "prompt_number": 10
    },
    {
     "cell_type": "heading",
     "level": 3,
     "metadata": {},
     "source": [
      "10 mpg difference (25 mpg to 35 mpg)"
     ]
    },
    {
     "cell_type": "code",
     "collapsed": false,
     "input": [
      "price_per_year(25) - price_per_year(35)"
     ],
     "language": "python",
     "metadata": {},
     "outputs": [
      {
       "metadata": {},
       "output_type": "pyout",
       "prompt_number": 11,
       "text": [
        "720.0"
       ]
      }
     ],
     "prompt_number": 11
    },
    {
     "cell_type": "heading",
     "level": 3,
     "metadata": {},
     "source": [
      "10 mpg difference (30 mpg to 40 mpg)"
     ]
    },
    {
     "cell_type": "code",
     "collapsed": false,
     "input": [
      "price_per_year(30) - price_per_year(40)"
     ],
     "language": "python",
     "metadata": {},
     "outputs": [
      {
       "metadata": {},
       "output_type": "pyout",
       "prompt_number": 12,
       "text": [
        "525.0"
       ]
      }
     ],
     "prompt_number": 12
    },
    {
     "cell_type": "heading",
     "level": 3,
     "metadata": {},
     "source": [
      "10 mpg difference (40 mpg to 50 mpg)"
     ]
    },
    {
     "cell_type": "code",
     "collapsed": false,
     "input": [
      "price_per_year(40) - price_per_year(50)"
     ],
     "language": "python",
     "metadata": {},
     "outputs": [
      {
       "metadata": {},
       "output_type": "pyout",
       "prompt_number": 13,
       "text": [
        "315.0"
       ]
      }
     ],
     "prompt_number": 13
    }
   ],
   "metadata": {}
  }
 ]
}