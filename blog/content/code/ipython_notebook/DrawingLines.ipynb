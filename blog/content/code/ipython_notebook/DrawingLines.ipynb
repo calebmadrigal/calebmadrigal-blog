{
 "metadata": {
  "name": ""
 },
 "nbformat": 3,
 "nbformat_minor": 0,
 "worksheets": [
  {
   "cells": [
    {
     "cell_type": "code",
     "collapsed": false,
     "input": [
      "import matplotlib.lines as lines\n",
      "fig, ax = plt.subplots()\n",
      "\n",
      "fig.set_size_inches(6,6)          # Make graph square\n",
      "scatter([-0.1],[-0.1],s=0.01)     # Move graph window a little left and down\n",
      "\n",
      "line1 = [(0,0), (1,0)]\n",
      "line2 = [(0,0), (0,1)]\n",
      "\n",
      "# Note that the Line2D takes a list of x values and a list of y values,\n",
      "# not 2 points as one might expect.  So we have to convert our points\n",
      "# an x-list and a y-list.\n",
      "(line1_xs, line1_ys) = zip(*line1)\n",
      "(line2_xs, line2_ys) = zip(*line2)\n",
      "\n",
      "ax.add_line(Line2D(line1_xs, line1_ys, linewidth=2, color='blue'))\n",
      "ax.add_line(Line2D(line2_xs, line2_ys, linewidth=2, color='red'))\n",
      "plot()\n",
      "show()"
     ],
     "language": "python",
     "metadata": {},
     "outputs": [
      {
       "metadata": {},
       "output_type": "display_data",
       "png": "[encoded data removed]",
       "text": [
        "<matplotlib.figure.Figure at 0x9ea6b0c>"
       ]
      }
     ],
     "prompt_number": 5
    }
   ],
   "metadata": {}
  }
 ]
}